{
 "cells": [
  {
   "cell_type": "code",
   "execution_count": 11,
   "metadata": {},
   "outputs": [],
   "source": [
    "# Import libraries\n",
    "import numpy as np\n",
    "import pandas as pd\n",
    "from scipy.linalg import block_diag\n",
    "from collections import defaultdict\n",
    "import random\n",
    "import csv"
   ]
  },
  {
   "cell_type": "code",
   "execution_count": 12,
   "metadata": {},
   "outputs": [],
   "source": [
    "# Define the parameters\n",
    "data_path = \"./cost_10_07.csv\"\n",
    "part_col = \"Part\"\n",
    "dep_arr_site_col = \"Departure/Arrival site\"\n",
    "arr_dep_site_col =  \"Arrival/Departure site\"\n",
    "cost_col = \"Cost\"\n",
    "PBS = [(2, 1), (3, 1), (4, 1), (5, 2) , (6, 2), (7, 2), (8, 3), (9, 4), (10, 4)]\n",
    "subpart = [(2,3),(2,4),(3,4),(5,6),(5,7),(6,7),(9,10)]\n",
    "lambda_1 = 100\n",
    "lambda_2 = 100\n",
    "lambda_3 = 100"
   ]
  },
  {
   "cell_type": "code",
   "execution_count": 13,
   "metadata": {},
   "outputs": [],
   "source": [
    "# Define the function to create the cost matrix\n",
    "def cost_matrix_df(data_path, part_col, dep_arr_site_col, arr_dep_site_col, cost_col):\n",
    "    # Load the data and create a DataFrame\n",
    "    data = pd.read_csv(data_path)\n",
    "    data_df = pd.DataFrame(data)\n",
    "\n",
    "    # Create the pivot DataFrame\n",
    "    part_range = range(2, data_df[part_col].max() + 1)  # Start from 2\n",
    "    site_range = range(1, max(data_df[dep_arr_site_col].max(), data_df[arr_dep_site_col].max()) + 1)\n",
    "\n",
    "    pivot_df = (\n",
    "        pd.DataFrame(\n",
    "            index=pd.MultiIndex.from_product(\n",
    "                [part_range, site_range, site_range], \n",
    "                names=['Part', 'Departure_Site', 'Arrival_Site']\n",
    "            )\n",
    "        )\n",
    "        .reset_index()\n",
    "        .merge(data_df.assign(Part_Column=data_df[part_col]), how='left', left_on=['Part', 'Departure_Site', 'Arrival_Site'], right_on=[part_col, dep_arr_site_col, arr_dep_site_col])\n",
    "        .assign(Cost=lambda df: df[cost_col].fillna(0))\n",
    "        .pivot_table(index=['Part', 'Departure_Site'], columns=['Part_Column', 'Arrival_Site'], values='Cost', fill_value=0)\n",
    "        .pipe(lambda df: df.reorder_levels(['Part_Column', 'Arrival_Site'], axis=1))\n",
    "        .pipe(lambda df: df.reindex(columns=pd.MultiIndex.from_product([part_range, site_range], names=df.columns.names), fill_value=0))\n",
    "        .pipe(lambda df: df.reindex(index=pd.MultiIndex.from_product([part_range, site_range], names=df.index.names), fill_value=0))\n",
    "        .pipe(lambda df: df + df.T)  # Make the DataFrame symmetric\n",
    "    )\n",
    "\n",
    "    return pivot_df"
   ]
  },
  {
   "cell_type": "code",
   "execution_count": 14,
   "metadata": {},
   "outputs": [],
   "source": [
    "# Define the function to create the cost function\n",
    "def cost_function_qubo(PBS):\n",
    "    # Get the range of parts and sites\n",
    "    pivot_df = cost_matrix_df(data_path, part_col, dep_arr_site_col, arr_dep_site_col, cost_col)\n",
    "    site_range = pivot_df.index.get_level_values('Departure_Site').unique()\n",
    "\n",
    "    # Convert the pivot DataFrame to a QUBO dictionary\n",
    "    cost_function = {((r, i), (s, j)): pivot_df.loc[(r, i), (r, j)] \n",
    "            for r, s in PBS for i in site_range for j in site_range if i != j and r != s and (r, i) in pivot_df.index and (r, j) in pivot_df.index}\n",
    "\n",
    "    return cost_function"
   ]
  },
  {
   "cell_type": "code",
   "execution_count": 15,
   "metadata": {},
   "outputs": [],
   "source": [
    "# Define the function to create the first constraint function\n",
    "def penalty_C1_qubo(PBS, penalty=1000):\n",
    "    \n",
    "    data = pd.read_csv(data_path)\n",
    "    data_df = pd.DataFrame(data)\n",
    "    # Determine the maximum number of sites\n",
    "    max_sites = data_df['Arrival/Departure site'].max()\n",
    "\n",
    "    # Create a QUBO dictionary to hold the penalty terms\n",
    "    penalty_qubo_C1 = {}\n",
    "    for r, _ in PBS:\n",
    "        for i in range(1, max_sites + 1):\n",
    "            penalty_qubo_C1[((r, i), (r, i))] = -penalty\n",
    "            for j in range(i + 1, max_sites + 1):\n",
    "                penalty_qubo_C1[((r, i), (r, j))] = 2 * penalty\n",
    "                penalty_qubo_C1[((r, j), (r, i))] = 2* penalty\n",
    "\n",
    "    return penalty_qubo_C1"
   ]
  },
  {
   "cell_type": "code",
   "execution_count": 16,
   "metadata": {},
   "outputs": [],
   "source": [
    "# Define the function to create the second constraint function\n",
    "def penalty_C2_qubo(PBS, penalty=1000):\n",
    "    \n",
    "    data = pd.read_csv(data_path)\n",
    "    data_df = pd.DataFrame(data)\n",
    "    # Determine the maximum number of sites\n",
    "    max_sites = data_df['Arrival/Departure site'].max()\n",
    "\n",
    "    # Create a QUBO dictionary to hold the penalty terms\n",
    "    penalty_qubo_C2 = {}\n",
    "    for r, s in PBS:\n",
    "        for i in range(1, max_sites + 1):\n",
    "            # Add a penalty if the sum of Xr,iXs,i is non-zero\n",
    "            penalty_qubo_C2[((r, i), (s, i))] = penalty\n",
    "\n",
    "    return penalty_qubo_C2"
   ]
  },
  {
   "cell_type": "code",
   "execution_count": 17,
   "metadata": {},
   "outputs": [],
   "source": [
    "# Define the function to create the third constraint function\n",
    "def penalty_C3_qubo(subpart, penalty=1000):\n",
    "    \n",
    "    data = pd.read_csv(data_path)\n",
    "    data_df = pd.DataFrame(data)\n",
    "    # Determine the maximum number of sites\n",
    "    max_sites = data_df['Arrival/Departure site'].max()\n",
    "\n",
    "\n",
    "    # Create a QUBO dictionary to hold the penalty terms\n",
    "    penalty_qubo_C3 = {}\n",
    "    for r, s in subpart:\n",
    "        if r < s:\n",
    "            for i in range(1, max_sites + 1):\n",
    "                # Add a penalty if the origins of two subparts of a common part are the same\n",
    "                penalty_qubo_C3[((r, i), (s, i))] = penalty\n",
    "\n",
    "    return penalty_qubo_C3"
   ]
  },
  {
   "cell_type": "code",
   "execution_count": 18,
   "metadata": {},
   "outputs": [],
   "source": [
    "# Auxiliary function to multiply penalties by QUBO dictionaries\n",
    "\n",
    "def multiply_penalty_qubo(penalty, qubo_dict):\n",
    "    # Create a new QUBO dictionary to hold the result\n",
    "    result_qubo = {}\n",
    "\n",
    "    # Multiply each value in the QUBO dictionary by the penalty\n",
    "    for key, value in qubo_dict.items():\n",
    "        result_qubo[key] = penalty * value\n",
    "\n",
    "    return result_qubo"
   ]
  },
  {
   "cell_type": "code",
   "execution_count": 19,
   "metadata": {},
   "outputs": [],
   "source": [
    "# Auxiliary function to add QUBO dictionaries\n",
    "def add_qubo_dicts(qubo_dict1, qubo_dict2):\n",
    "    # Create a new defaultdict to hold the result\n",
    "    result_qubo = defaultdict(int)\n",
    "\n",
    "    # Add the values from the first QUBO dictionary\n",
    "    for key, value in qubo_dict1.items():\n",
    "        result_qubo[key] += value\n",
    "\n",
    "    # Add the values from the second QUBO dictionary\n",
    "    for key, value in qubo_dict2.items():\n",
    "        result_qubo[key] += value\n",
    "\n",
    "    return dict(result_qubo)"
   ]
  },
  {
   "cell_type": "code",
   "execution_count": 20,
   "metadata": {},
   "outputs": [],
   "source": [
    "C = cost_function_qubo(PBS)\n",
    "C1 = penalty_C1_qubo(PBS)\n",
    "C2 = penalty_C2_qubo(PBS)\n",
    "C3 = penalty_C3_qubo(subpart)"
   ]
  },
  {
   "cell_type": "code",
   "execution_count": 21,
   "metadata": {},
   "outputs": [],
   "source": [
    "# List of tuples (penalty, QUBO dictionary)\n",
    "penalties_qubos = [(1, C), (lambda_1, C1), (lambda_2, C2), (lambda_3, C3)]\n",
    "\n",
    "# Initialize Q as an empty dictionary\n",
    "Q = {}\n",
    "\n",
    "# Iterate over the list of tuples\n",
    "for penalty, qubo in penalties_qubos:\n",
    "    # Multiply the QUBO dictionary by its penalty\n",
    "    qubo_multiplied = multiply_penalty_qubo(penalty, qubo)\n",
    "    \n",
    "    # Add the multiplied QUBO dictionary to Q\n",
    "    Q = add_qubo_dicts(Q, qubo_multiplied)"
   ]
  },
  {
   "cell_type": "code",
   "execution_count": 23,
   "metadata": {},
   "outputs": [
    {
     "data": {
      "text/plain": [
       "378"
      ]
     },
     "execution_count": 23,
     "metadata": {},
     "output_type": "execute_result"
    }
   ],
   "source": [
    "len(cost_function_qubo(PBS))"
   ]
  }
 ],
 "metadata": {
  "kernelspec": {
   "display_name": "venv",
   "language": "python",
   "name": "python3"
  },
  "language_info": {
   "codemirror_mode": {
    "name": "ipython",
    "version": 3
   },
   "file_extension": ".py",
   "mimetype": "text/x-python",
   "name": "python",
   "nbconvert_exporter": "python",
   "pygments_lexer": "ipython3",
   "version": "3.11.8"
  }
 },
 "nbformat": 4,
 "nbformat_minor": 2
}
